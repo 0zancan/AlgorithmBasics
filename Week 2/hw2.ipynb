{
 "cells": [
  {
   "cell_type": "markdown",
   "metadata": {},
   "source": [
    "#### Çalışma 1: Klavyeden girilen 0 ile 1000 arasındaki sayının basamak sayısını ekranı yazdıran program."
   ]
  },
  {
   "cell_type": "code",
   "execution_count": 84,
   "metadata": {},
   "outputs": [
    {
     "name": "stdout",
     "output_type": "stream",
     "text": [
      "0-10000 arası bir sayı giriniz: 87\n",
      "87 sayısının basamak sayısı => 2\n"
     ]
    }
   ],
   "source": [
    "sayi = input(\"0-10000 arası bir sayı giriniz: \")\n",
    "sayi = int(sayi)\n",
    "if sayi<10:\n",
    "    print(\"{} sayısının basamak sayısı => 1\".format(sayi))\n",
    "elif 10<=sayi<100:\n",
    "    print(\"{} sayısının basamak sayısı => 2\".format(sayi))\n",
    "elif 100<=sayi<1000:\n",
    "    print(\"{} sayısının basamak sayısı => 3\".format(sayi))\n",
    "elif 1000<=sayi<10000:\n",
    "    print(\"{} sayısının basamak sayısı => 4\".format(sayi))\n",
    "else:\n",
    "    print(\"Girdiğiniz sayı 10.000'den büyüktür!\")"
   ]
  },
  {
   "cell_type": "markdown",
   "metadata": {},
   "source": [
    "#### Çalışma 2: Klavyeden girilen x'e göre y'nin değerini gösterir yazdıran program."
   ]
  },
  {
   "cell_type": "code",
   "execution_count": 5,
   "metadata": {},
   "outputs": [
    {
     "name": "stdout",
     "output_type": "stream",
     "text": [
      "x sayısını giriniz6\n",
      "y = -2\n"
     ]
    }
   ],
   "source": [
    "x = input(\"x sayısını giriniz: \")\n",
    "x = int(x)\n",
    "\n",
    "if x < 0:\n",
    "    k = 2\n",
    "    t = 0\n",
    "elif 0 <= x <= 5:\n",
    "    k = -1\n",
    "    t = 10\n",
    "elif x>5:\n",
    "    k = 3\n",
    "    t = -20\n",
    "y = k*x+t\n",
    "print(\"y = {}\".format(y))"
   ]
  },
  {
   "cell_type": "markdown",
   "metadata": {},
   "source": [
    "Çalışma 3: Klavyeden girilen üç kenar uzunluğunun bir üçgen oluşturup oluşturmadığını ekranda yazdıran program"
   ]
  },
  {
   "cell_type": "code",
   "execution_count": 80,
   "metadata": {},
   "outputs": [
    {
     "name": "stdout",
     "output_type": "stream",
     "text": [
      "a sayısını giriniz: 5\n",
      "b sayısını giriniz: 12\n",
      "c sayısını giriniz: 13\n",
      "Üçgen olabilir\n"
     ]
    }
   ],
   "source": [
    "a = input(\"a sayısını giriniz: \")\n",
    "b = input(\"b sayısını giriniz: \")\n",
    "c = input(\"c sayısını giriniz: \")\n",
    "\n",
    "if a+b > c or a+c > b or b+c>a:\n",
    "    print(\"Üçgen olabilir\")\n",
    "else:\n",
    "    print(\"Üçgen olabilemez\")"
   ]
  },
  {
   "cell_type": "markdown",
   "metadata": {},
   "source": [
    "#### Çalışma 4: Klavyeden girilen üç kenar uzunluğunun eşkenar üçken olup olmadıklarına karar veren program. (Girilen 3 kenarın üçgen oluşturduğunu kabul ediyoruz.)"
   ]
  },
  {
   "cell_type": "code",
   "execution_count": 11,
   "metadata": {},
   "outputs": [
    {
     "name": "stdout",
     "output_type": "stream",
     "text": [
      "a sayısını giriniz: 3\n",
      "b sayısını giriniz: 4\n",
      "c sayısını giriniz: 5\n",
      "Eşkenar Üçgen olamaz\n"
     ]
    }
   ],
   "source": [
    "a = input(\"a sayısını giriniz: \")\n",
    "b = input(\"b sayısını giriniz: \")\n",
    "c = input(\"c sayısını giriniz: \")\n",
    "\n",
    "if a==b==c:\n",
    "    print(\"Eşkenar Üçgen\")\n",
    "else:\n",
    "    print(\"Eşkenar Üçgen olamaz\")"
   ]
  },
  {
   "cell_type": "markdown",
   "metadata": {},
   "source": [
    "#### Çalışma 5: Klavyeden girilen üç kenar uzunluğunun ikizkenar üçgen olup olmadığını kontrol eden program. Ancak eşkenar üçgen kabul edilmiyor."
   ]
  },
  {
   "cell_type": "code",
   "execution_count": 15,
   "metadata": {},
   "outputs": [
    {
     "name": "stdout",
     "output_type": "stream",
     "text": [
      "a sayısını giriniz: 4\n",
      "b sayısını giriniz: 4\n",
      "c sayısını giriniz: 5\n",
      "İkizkenar Üçgen\n"
     ]
    }
   ],
   "source": [
    "a = input(\"a sayısını giriniz: \")\n",
    "b = input(\"b sayısını giriniz: \")\n",
    "c = input(\"c sayısını giriniz: \")\n",
    "\n",
    "if a==b or a==c or c==b:\n",
    "    print(\"İkizkenar Üçgen\")\n",
    "else:\n",
    "    print(\"İkizkenar Üçgen olamaz\")"
   ]
  },
  {
   "cell_type": "markdown",
   "metadata": {},
   "source": [
    "#### Çalışma 6: Klavyeden girilen 3 farklı sayının en büyük olanını bulan programı."
   ]
  },
  {
   "cell_type": "code",
   "execution_count": 79,
   "metadata": {},
   "outputs": [
    {
     "name": "stdout",
     "output_type": "stream",
     "text": [
      "a sayısını giriniz: 5\n",
      "b sayısını giriniz: 6\n",
      "c sayısını giriniz: 9\n",
      "En büyük c= 9.0\n"
     ]
    }
   ],
   "source": [
    "a = float(input(\"a sayısını giriniz: \"))\n",
    "b = float(input(\"b sayısını giriniz: \"))\n",
    "c = float(input(\"c sayısını giriniz: \"))\n",
    "\n",
    "if a>b and a>c:\n",
    "    print(\"En büyük a= {}\".format(a))\n",
    "elif b>c and b>a:\n",
    "    print(\"En büyük b= {}\".format(b))\n",
    "elif c>a and c>b:\n",
    "    print(\"En büyük c= {}\".format(c))    "
   ]
  },
  {
   "cell_type": "markdown",
   "metadata": {},
   "source": [
    "#### Çalışma 7: Klavyeden girilen 3 farklı sayının ortancasını bulan programı."
   ]
  },
  {
   "cell_type": "code",
   "execution_count": 78,
   "metadata": {},
   "outputs": [
    {
     "name": "stdout",
     "output_type": "stream",
     "text": [
      "a sayısını giriniz: 3\n",
      "b sayısını giriniz: -7\n",
      "c sayısını giriniz: 8\n",
      "ortanca sayi a = 3.0\n"
     ]
    }
   ],
   "source": [
    "a = float(input(\"a sayısını giriniz: \"))\n",
    "b = float(input(\"b sayısını giriniz: \"))\n",
    "c = float(input(\"c sayısını giriniz: \"))\n",
    "\n",
    "if a>b>c or a<b<c:\n",
    "    print(\"ortanca b = {}\".format(b))\n",
    "elif b<a<c or c<a<b:\n",
    "    print(\"ortanca sayi a = {}\".format(a))\n",
    "elif c<a<b or b<c<a:\n",
    "    print(\"ortanca sayi c = {}\".format(c))\n"
   ]
  },
  {
   "cell_type": "markdown",
   "metadata": {},
   "source": [
    "#### Çalışma 8: Klavyeden girilen notun harf karşılığını ekrana yazdıran program."
   ]
  },
  {
   "cell_type": "code",
   "execution_count": 23,
   "metadata": {},
   "outputs": [
    {
     "name": "stdout",
     "output_type": "stream",
     "text": [
      "\n",
      "    0-30 FF\n",
      "    30-40 DD\n",
      "    40-50 DC\n",
      "    50-60 CC\n",
      "    60-70 CB\n",
      "    70-80 BB\n",
      "    80-90 BA\n",
      "    90-100 AA\n",
      "\n",
      "Notunuzu giriniz: 66\n",
      "CB\n"
     ]
    }
   ],
   "source": [
    "print(\"\"\"\n",
    "    0-30 FF\n",
    "    30-40 DD\n",
    "    40-50 DC\n",
    "    50-60 CC\n",
    "    60-70 CB\n",
    "    70-80 BB\n",
    "    80-90 BA\n",
    "    90-100 AA\n",
    "\"\"\")\n",
    "\n",
    "dersNot = float(input(\"Notunuzu giriniz: \"))\n",
    "\n",
    "\n",
    "if dersNot<30:\n",
    "    print(\"FF\")\n",
    "elif 30<dersNot<=40:\n",
    "    print(\"DD\")\n",
    "elif 40<dersNot<=50:\n",
    "    print(\"DC\")\n",
    "elif 50<dersNot<=60:\n",
    "    print(\"CC\")\n",
    "elif 60<dersNot<=70:\n",
    "    print(\"CB\")\n",
    "elif 70<dersNot<=80:\n",
    "    print(\"BB\")\n",
    "elif 80<dersNot<=90:\n",
    "    print(\"BA\")\n",
    "elif 90<dersNot<=100:\n",
    "    print(\"AA\")\n",
    "else:\n",
    "    print(\"Geçersiz not girdiniz!\")"
   ]
  },
  {
   "cell_type": "markdown",
   "metadata": {},
   "source": [
    "#### Çalışma 9: a) 1 den 10 a kadar olan sayıları ekrana yazdıran program"
   ]
  },
  {
   "cell_type": "code",
   "execution_count": 44,
   "metadata": {
    "scrolled": true
   },
   "outputs": [
    {
     "name": "stdout",
     "output_type": "stream",
     "text": [
      "1\n",
      "2\n",
      "3\n",
      "4\n",
      "5\n",
      "6\n",
      "7\n",
      "8\n",
      "9\n"
     ]
    }
   ],
   "source": [
    "for i in range(1,10):\n",
    "    print(i)\n",
    "\n",
    "\n",
    "    "
   ]
  },
  {
   "cell_type": "markdown",
   "metadata": {},
   "source": [
    "#### Çalışma 9: b) 20 den küçük pozitif tek sayıları ekrana yazdıran program"
   ]
  },
  {
   "cell_type": "code",
   "execution_count": 56,
   "metadata": {},
   "outputs": [
    {
     "name": "stdout",
     "output_type": "stream",
     "text": [
      "19\n",
      "17\n",
      "15\n",
      "13\n",
      "11\n",
      "9\n",
      "7\n",
      "5\n",
      "3\n",
      "1\n"
     ]
    }
   ],
   "source": [
    "for i in range(19,0,-2):\n",
    "    print(i)"
   ]
  },
  {
   "cell_type": "markdown",
   "metadata": {},
   "source": [
    "#### Çalışma 10: a) Klavyeden a ve b sayıları giriyor. a < b a = b a > b olabilir. Her durumda a'dan b'ye kadar olan sayıları ekrana yazdıran program."
   ]
  },
  {
   "cell_type": "code",
   "execution_count": 87,
   "metadata": {},
   "outputs": [
    {
     "name": "stdout",
     "output_type": "stream",
     "text": [
      "a sayısını giriniz: 3\n",
      "b sayısını giriniz: -5\n"
     ]
    }
   ],
   "source": [
    "a = int(input(\"a sayısını giriniz: \"))\n",
    "b = int(input(\"b sayısını giriniz: \"))\n",
    "\n",
    "for i in range(a,b+1):\n",
    "    print(i)"
   ]
  },
  {
   "cell_type": "markdown",
   "metadata": {},
   "source": [
    "#### Çalışma 10: b) n klavyeden girilen pozitif bir sayıdır. n çift sayı ise 0'dan n'ye kadar olan çift sayılar n tek ise 1'den n'ye kadar olan tek sayıları ekrana yazdıran program."
   ]
  },
  {
   "cell_type": "code",
   "execution_count": 92,
   "metadata": {},
   "outputs": [
    {
     "name": "stdout",
     "output_type": "stream",
     "text": [
      "Pozitif bir sayı giriniz: 5\n",
      "n = 5 tek sayıdır\n",
      "1\n",
      "3\n"
     ]
    }
   ],
   "source": [
    "n = int(input(\"Pozitif bir sayı giriniz: \"))\n",
    "if n%2==0:\n",
    "    print(\"n = {} çift sayıdır\".format(n))\n",
    "    for i in range(0,n,2):\n",
    "        print(i)\n",
    "elif n%2!=0:\n",
    "    print(\"n = {} tek sayıdır\".format(n))\n",
    "    for i in range(1,n,2):\n",
    "        print(i)\n",
    "else:\n",
    "    print(\"Hatalı sayi girdiniz.\")"
   ]
  },
  {
   "cell_type": "code",
   "execution_count": null,
   "metadata": {},
   "outputs": [],
   "source": []
  }
 ],
 "metadata": {
  "kernelspec": {
   "display_name": "Python 3",
   "language": "python",
   "name": "python3"
  },
  "language_info": {
   "codemirror_mode": {
    "name": "ipython",
    "version": 3
   },
   "file_extension": ".py",
   "mimetype": "text/x-python",
   "name": "python",
   "nbconvert_exporter": "python",
   "pygments_lexer": "ipython3",
   "version": "3.7.4"
  }
 },
 "nbformat": 4,
 "nbformat_minor": 2
}
